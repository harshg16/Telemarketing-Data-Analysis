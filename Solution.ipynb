{
 "cells": [
  {
   "cell_type": "markdown",
   "metadata": {},
   "source": [
    "### Reading Libraries"
   ]
  },
  {
   "cell_type": "code",
   "execution_count": 1,
   "metadata": {},
   "outputs": [
    {
     "name": "stderr",
     "output_type": "stream",
     "text": [
      "Using TensorFlow backend.\n"
     ]
    }
   ],
   "source": [
    "import seaborn as sns\n",
    "import pandas as pd\n",
    "import numpy as np\n",
    "from sklearn.preprocessing import StandardScaler\n",
    "import matplotlib.pyplot as plt\n",
    "from sklearn.feature_selection import SelectFromModel\n",
    "from sklearn.ensemble import RandomForestClassifier\n",
    "from sklearn.feature_selection import RFE,RFECV\n",
    "from sklearn.preprocessing import RobustScaler\n",
    "from sklearn.utils import resample\n",
    "from sklearn.svm import SVC\n",
    "from sklearn.model_selection import train_test_split\n",
    "from sklearn.preprocessing import LabelEncoder\n",
    "from sklearn.tree import DecisionTreeClassifier\n",
    "from sklearn.linear_model import LassoCV\n",
    "from sklearn.metrics import confusion_matrix, accuracy_score,recall_score\n",
    "from sklearn.linear_model import LogisticRegression\n",
    "from sklearn.preprocessing import OneHotEncoder\n",
    "from sklearn.model_selection import GridSearchCV\n",
    "from sklearn.model_selection import cross_val_score\n",
    "from imblearn.over_sampling import SMOTE\n",
    "from sklearn.metrics import classification_report,roc_auc_score,roc_curve\n",
    "import warnings\n",
    "warnings.filterwarnings('ignore')"
   ]
  },
  {
   "cell_type": "markdown",
   "metadata": {},
   "source": [
    "### Reading Data and Dropping \"duration\""
   ]
  },
  {
   "cell_type": "code",
   "execution_count": 2,
   "metadata": {},
   "outputs": [],
   "source": [
    "data = pd.read_csv('TRAIN DATA')\n",
    "data.drop(columns = 'duration',inplace = True)"
   ]
  },
  {
   "cell_type": "markdown",
   "metadata": {},
   "source": [
    "### Data Preparation"
   ]
  },
  {
   "cell_type": "code",
   "execution_count": 3,
   "metadata": {},
   "outputs": [],
   "source": [
    "def age(dataframe):\n",
    "    dataframe.loc[dataframe['age'] <= 33, 'age'] = 1\n",
    "    dataframe.loc[(dataframe['age'] > 33) & (dataframe['age'] <= 48), 'age'] = 2\n",
    "    dataframe.loc[(dataframe['age'] > 48) & (dataframe['age'] <= 71), 'age'] = 3\n",
    "    dataframe.loc[(dataframe['age'] > 71) & (dataframe['age'] <= 95), 'age'] = 4\n",
    "           \n",
    "    return dataframe\n",
    "\n",
    "age(data);"
   ]
  },
  {
   "cell_type": "code",
   "execution_count": 4,
   "metadata": {},
   "outputs": [],
   "source": [
    "## Label encoding for both the dataframes\n",
    "labelencoder_X = LabelEncoder()"
   ]
  },
  {
   "cell_type": "code",
   "execution_count": 5,
   "metadata": {},
   "outputs": [],
   "source": [
    "def encoding(dataframe):\n",
    "    dataframe['job'] = labelencoder_X.fit_transform(dataframe.job)\n",
    "    jobs_key = pd.DataFrame(list(zip(list(labelencoder_X.classes_),\n",
    "                                 list(np.arange(0,len(list(labelencoder_X.classes_)),1)))), columns = ['jobs','label'])\n",
    "    \n",
    "    dataframe['marital'] = labelencoder_X.fit_transform(dataframe.marital)\n",
    "    marital_key = pd.DataFrame(list(zip(list(labelencoder_X.classes_),\n",
    "                                 list(np.arange(0,len(list(labelencoder_X.classes_)),1)))), columns = ['marital','label'])\n",
    "    \n",
    "    dataframe['education'] = labelencoder_X.fit_transform(dataframe.education)\n",
    "    education_key = pd.DataFrame(list(zip(list(labelencoder_X.classes_),\n",
    "                                 list(np.arange(0,len(list(labelencoder_X.classes_)),1)))), columns = ['education','label'])\n",
    "    \n",
    "    dataframe['connect'] = labelencoder_X.fit_transform(dataframe.connect)\n",
    "    connect_key = pd.DataFrame(list(zip(list(labelencoder_X.classes_),\n",
    "                                 list(np.arange(0,len(list(labelencoder_X.classes_)),1)))), columns = ['connect','label'])\n",
    "    \n",
    "    dataframe['landline'] = labelencoder_X.fit_transform(dataframe.landline)\n",
    "    landline_key = pd.DataFrame(list(zip(list(labelencoder_X.classes_),\n",
    "                                 list(np.arange(0,len(list(labelencoder_X.classes_)),1)))), columns = ['landline','label'])\n",
    "    \n",
    "    dataframe['smart'] = labelencoder_X.fit_transform(dataframe.smart)\n",
    "    smart_key = pd.DataFrame(list(zip(list(labelencoder_X.classes_),\n",
    "                                 list(np.arange(0,len(list(labelencoder_X.classes_)),1)))), columns = ['smart','label'])\n",
    "    \n",
    "    dataframe['last_month'] = labelencoder_X.fit_transform(dataframe.last_month)\n",
    "    month_key = pd.DataFrame(list(zip(list(labelencoder_X.classes_),\n",
    "                                 list(np.arange(0,len(list(labelencoder_X.classes_)),1)))), columns = ['month','label'])\n",
    "    \n",
    "    return dataframe"
   ]
  },
  {
   "cell_type": "code",
   "execution_count": 6,
   "metadata": {},
   "outputs": [
    {
     "data": {
      "text/html": [
       "<div>\n",
       "<style scoped>\n",
       "    .dataframe tbody tr th:only-of-type {\n",
       "        vertical-align: middle;\n",
       "    }\n",
       "\n",
       "    .dataframe tbody tr th {\n",
       "        vertical-align: top;\n",
       "    }\n",
       "\n",
       "    .dataframe thead th {\n",
       "        text-align: right;\n",
       "    }\n",
       "</style>\n",
       "<table border=\"1\" class=\"dataframe\">\n",
       "  <thead>\n",
       "    <tr style=\"text-align: right;\">\n",
       "      <th></th>\n",
       "      <th>age</th>\n",
       "      <th>job</th>\n",
       "      <th>marital</th>\n",
       "      <th>education</th>\n",
       "      <th>connect</th>\n",
       "      <th>balance</th>\n",
       "      <th>landline</th>\n",
       "      <th>smart</th>\n",
       "      <th>last_day</th>\n",
       "      <th>last_month</th>\n",
       "      <th>campaign</th>\n",
       "      <th>passdays</th>\n",
       "      <th>previous</th>\n",
       "      <th>poutcome</th>\n",
       "      <th>target</th>\n",
       "    </tr>\n",
       "  </thead>\n",
       "  <tbody>\n",
       "    <tr>\n",
       "      <td>0</td>\n",
       "      <td>3</td>\n",
       "      <td>4</td>\n",
       "      <td>1</td>\n",
       "      <td>2</td>\n",
       "      <td>0</td>\n",
       "      <td>2143</td>\n",
       "      <td>1</td>\n",
       "      <td>0</td>\n",
       "      <td>5</td>\n",
       "      <td>8</td>\n",
       "      <td>1</td>\n",
       "      <td>-1</td>\n",
       "      <td>0</td>\n",
       "      <td>unknown</td>\n",
       "      <td>0</td>\n",
       "    </tr>\n",
       "    <tr>\n",
       "      <td>1</td>\n",
       "      <td>2</td>\n",
       "      <td>9</td>\n",
       "      <td>2</td>\n",
       "      <td>1</td>\n",
       "      <td>0</td>\n",
       "      <td>29</td>\n",
       "      <td>1</td>\n",
       "      <td>0</td>\n",
       "      <td>5</td>\n",
       "      <td>8</td>\n",
       "      <td>1</td>\n",
       "      <td>-1</td>\n",
       "      <td>0</td>\n",
       "      <td>unknown</td>\n",
       "      <td>0</td>\n",
       "    </tr>\n",
       "    <tr>\n",
       "      <td>2</td>\n",
       "      <td>1</td>\n",
       "      <td>2</td>\n",
       "      <td>1</td>\n",
       "      <td>1</td>\n",
       "      <td>0</td>\n",
       "      <td>2</td>\n",
       "      <td>1</td>\n",
       "      <td>1</td>\n",
       "      <td>5</td>\n",
       "      <td>8</td>\n",
       "      <td>1</td>\n",
       "      <td>-1</td>\n",
       "      <td>0</td>\n",
       "      <td>unknown</td>\n",
       "      <td>0</td>\n",
       "    </tr>\n",
       "    <tr>\n",
       "      <td>3</td>\n",
       "      <td>3</td>\n",
       "      <td>5</td>\n",
       "      <td>1</td>\n",
       "      <td>0</td>\n",
       "      <td>0</td>\n",
       "      <td>229</td>\n",
       "      <td>1</td>\n",
       "      <td>0</td>\n",
       "      <td>5</td>\n",
       "      <td>8</td>\n",
       "      <td>1</td>\n",
       "      <td>-1</td>\n",
       "      <td>0</td>\n",
       "      <td>unknown</td>\n",
       "      <td>0</td>\n",
       "    </tr>\n",
       "    <tr>\n",
       "      <td>4</td>\n",
       "      <td>3</td>\n",
       "      <td>1</td>\n",
       "      <td>1</td>\n",
       "      <td>0</td>\n",
       "      <td>0</td>\n",
       "      <td>52</td>\n",
       "      <td>1</td>\n",
       "      <td>0</td>\n",
       "      <td>5</td>\n",
       "      <td>8</td>\n",
       "      <td>1</td>\n",
       "      <td>-1</td>\n",
       "      <td>0</td>\n",
       "      <td>unknown</td>\n",
       "      <td>0</td>\n",
       "    </tr>\n",
       "    <tr>\n",
       "      <td>...</td>\n",
       "      <td>...</td>\n",
       "      <td>...</td>\n",
       "      <td>...</td>\n",
       "      <td>...</td>\n",
       "      <td>...</td>\n",
       "      <td>...</td>\n",
       "      <td>...</td>\n",
       "      <td>...</td>\n",
       "      <td>...</td>\n",
       "      <td>...</td>\n",
       "      <td>...</td>\n",
       "      <td>...</td>\n",
       "      <td>...</td>\n",
       "      <td>...</td>\n",
       "      <td>...</td>\n",
       "    </tr>\n",
       "    <tr>\n",
       "      <td>40503</td>\n",
       "      <td>1</td>\n",
       "      <td>9</td>\n",
       "      <td>2</td>\n",
       "      <td>1</td>\n",
       "      <td>0</td>\n",
       "      <td>505</td>\n",
       "      <td>0</td>\n",
       "      <td>1</td>\n",
       "      <td>17</td>\n",
       "      <td>9</td>\n",
       "      <td>2</td>\n",
       "      <td>-1</td>\n",
       "      <td>0</td>\n",
       "      <td>unknown</td>\n",
       "      <td>1</td>\n",
       "    </tr>\n",
       "    <tr>\n",
       "      <td>40504</td>\n",
       "      <td>3</td>\n",
       "      <td>9</td>\n",
       "      <td>1</td>\n",
       "      <td>2</td>\n",
       "      <td>0</td>\n",
       "      <td>825</td>\n",
       "      <td>0</td>\n",
       "      <td>0</td>\n",
       "      <td>17</td>\n",
       "      <td>9</td>\n",
       "      <td>3</td>\n",
       "      <td>-1</td>\n",
       "      <td>0</td>\n",
       "      <td>unknown</td>\n",
       "      <td>1</td>\n",
       "    </tr>\n",
       "    <tr>\n",
       "      <td>40505</td>\n",
       "      <td>4</td>\n",
       "      <td>5</td>\n",
       "      <td>1</td>\n",
       "      <td>1</td>\n",
       "      <td>0</td>\n",
       "      <td>5715</td>\n",
       "      <td>0</td>\n",
       "      <td>0</td>\n",
       "      <td>17</td>\n",
       "      <td>9</td>\n",
       "      <td>5</td>\n",
       "      <td>184</td>\n",
       "      <td>3</td>\n",
       "      <td>success</td>\n",
       "      <td>1</td>\n",
       "    </tr>\n",
       "    <tr>\n",
       "      <td>40506</td>\n",
       "      <td>3</td>\n",
       "      <td>1</td>\n",
       "      <td>1</td>\n",
       "      <td>1</td>\n",
       "      <td>0</td>\n",
       "      <td>668</td>\n",
       "      <td>0</td>\n",
       "      <td>0</td>\n",
       "      <td>17</td>\n",
       "      <td>9</td>\n",
       "      <td>4</td>\n",
       "      <td>-1</td>\n",
       "      <td>0</td>\n",
       "      <td>unknown</td>\n",
       "      <td>0</td>\n",
       "    </tr>\n",
       "    <tr>\n",
       "      <td>40507</td>\n",
       "      <td>2</td>\n",
       "      <td>2</td>\n",
       "      <td>1</td>\n",
       "      <td>1</td>\n",
       "      <td>0</td>\n",
       "      <td>2971</td>\n",
       "      <td>0</td>\n",
       "      <td>0</td>\n",
       "      <td>17</td>\n",
       "      <td>9</td>\n",
       "      <td>2</td>\n",
       "      <td>188</td>\n",
       "      <td>11</td>\n",
       "      <td>other</td>\n",
       "      <td>0</td>\n",
       "    </tr>\n",
       "  </tbody>\n",
       "</table>\n",
       "<p>40508 rows × 15 columns</p>\n",
       "</div>"
      ],
      "text/plain": [
       "       age  job  marital  education  connect  balance  landline  smart  \\\n",
       "0        3    4        1          2        0     2143         1      0   \n",
       "1        2    9        2          1        0       29         1      0   \n",
       "2        1    2        1          1        0        2         1      1   \n",
       "3        3    5        1          0        0      229         1      0   \n",
       "4        3    1        1          0        0       52         1      0   \n",
       "...    ...  ...      ...        ...      ...      ...       ...    ...   \n",
       "40503    1    9        2          1        0      505         0      1   \n",
       "40504    3    9        1          2        0      825         0      0   \n",
       "40505    4    5        1          1        0     5715         0      0   \n",
       "40506    3    1        1          1        0      668         0      0   \n",
       "40507    2    2        1          1        0     2971         0      0   \n",
       "\n",
       "       last_day  last_month  campaign  passdays  previous poutcome  target  \n",
       "0             5           8         1        -1         0  unknown       0  \n",
       "1             5           8         1        -1         0  unknown       0  \n",
       "2             5           8         1        -1         0  unknown       0  \n",
       "3             5           8         1        -1         0  unknown       0  \n",
       "4             5           8         1        -1         0  unknown       0  \n",
       "...         ...         ...       ...       ...       ...      ...     ...  \n",
       "40503        17           9         2        -1         0  unknown       1  \n",
       "40504        17           9         3        -1         0  unknown       1  \n",
       "40505        17           9         5       184         3  success       1  \n",
       "40506        17           9         4        -1         0  unknown       0  \n",
       "40507        17           9         2       188        11    other       0  \n",
       "\n",
       "[40508 rows x 15 columns]"
      ]
     },
     "execution_count": 6,
     "metadata": {},
     "output_type": "execute_result"
    }
   ],
   "source": [
    "encoding(data)"
   ]
  },
  {
   "cell_type": "code",
   "execution_count": 7,
   "metadata": {},
   "outputs": [],
   "source": [
    "# Splitting into fresh and repeated targets\n",
    "fresh_targets = data[data.previous == 0]\n",
    "repeated_targets = data[data.previous != 0]"
   ]
  },
  {
   "cell_type": "code",
   "execution_count": 8,
   "metadata": {},
   "outputs": [],
   "source": [
    "# Eliminating \"unknown\" rows in repeated targets\n",
    "repeated_targets = repeated_targets[repeated_targets.poutcome != 'unknown']"
   ]
  },
  {
   "cell_type": "code",
   "execution_count": 9,
   "metadata": {},
   "outputs": [],
   "source": [
    "fresh_targets.drop(columns = [\"previous\",\"poutcome\",\"passdays\"], inplace = True)"
   ]
  },
  {
   "cell_type": "code",
   "execution_count": 10,
   "metadata": {},
   "outputs": [],
   "source": [
    "# Subtracting one from the each value of campaign\n",
    "repeated_targets['campaign'] = repeated_targets['campaign'] - 1"
   ]
  },
  {
   "cell_type": "code",
   "execution_count": 11,
   "metadata": {},
   "outputs": [],
   "source": [
    "# Label encoding the poutcome column of repeated targets which have three labels - success, failure, other\n",
    "repeated_targets['poutcome'] = labelencoder_X.fit_transform(repeated_targets.poutcome)\n",
    "outcome_key = pd.DataFrame(list(zip(list(labelencoder_X.classes_),\n",
    "                                 list(np.arange(0,len(list(labelencoder_X.classes_)),1)))), columns = ['outcome','label'])"
   ]
  },
  {
   "cell_type": "code",
   "execution_count": 12,
   "metadata": {},
   "outputs": [],
   "source": [
    "fresh_targets['campaign'] = fresh_targets['campaign'] - 1"
   ]
  },
  {
   "cell_type": "code",
   "execution_count": 13,
   "metadata": {},
   "outputs": [],
   "source": [
    "repeated_targets.reset_index(inplace = True)\n",
    "repeated_targets.drop(columns = 'index', inplace = True)"
   ]
  },
  {
   "cell_type": "markdown",
   "metadata": {},
   "source": [
    "#### Correlation Matrix to eliminate highly correlated data"
   ]
  },
  {
   "cell_type": "code",
   "execution_count": 14,
   "metadata": {},
   "outputs": [
    {
     "data": {
      "text/plain": [
       "<matplotlib.axes._subplots.AxesSubplot at 0x284a632cb38>"
      ]
     },
     "execution_count": 14,
     "metadata": {},
     "output_type": "execute_result"
    },
    {
     "data": {
      "image/png": "[encoded data removed]",
      "text/plain": [
       "<Figure size 720x720 with 2 Axes>"
      ]
     },
     "metadata": {
      "needs_background": "light"
     },
     "output_type": "display_data"
    }
   ],
   "source": [
    "plt.subplots(figsize = (10,10))\n",
    "repeated_targets_corr = repeated_targets.corr()\n",
    "repeated_targets_corr[np.abs(repeated_targets_corr)>.65] = 1\n",
    "sns.heatmap(repeated_targets_corr, annot = True, vmin = -1, vmax = 1, linewidths=1)"
   ]
  },
  {
   "cell_type": "code",
   "execution_count": 15,
   "metadata": {},
   "outputs": [
    {
     "data": {
      "text/plain": [
       "<matplotlib.axes._subplots.AxesSubplot at 0x284af931240>"
      ]
     },
     "execution_count": 15,
     "metadata": {},
     "output_type": "execute_result"
    },
    {
     "data": {
      "image/png": "[encoded data removed]",
      "text/plain": [
       "<Figure size 720x720 with 2 Axes>"
      ]
     },
     "metadata": {
      "needs_background": "light"
     },
     "output_type": "display_data"
    }
   ],
   "source": [
    "plt.subplots(figsize = (10,10))\n",
    "fresh_targets_corr = fresh_targets.corr()\n",
    "fresh_targets_corr[np.abs(fresh_targets_corr)>.65] = 1\n",
    "sns.heatmap(fresh_targets_corr, annot = True, vmin = -1, vmax = 1, linewidths=1)"
   ]
  },
  {
   "cell_type": "markdown",
   "metadata": {},
   "source": [
    "##### No variables which are highly correlated with one another, so not dropping any"
   ]
  },
  {
   "cell_type": "code",
   "execution_count": 16,
   "metadata": {},
   "outputs": [],
   "source": [
    "# repeated targets dataframe\n",
    "rX = repeated_targets.drop(columns = 'target')\n",
    "cols1 = list(rX)\n",
    "rY = pd.DataFrame(repeated_targets['target'])"
   ]
  },
  {
   "cell_type": "code",
   "execution_count": 17,
   "metadata": {},
   "outputs": [],
   "source": [
    "# fresh target dataframe\n",
    "fX = fresh_targets.drop(columns = 'target')\n",
    "cols2 = list(fX)\n",
    "fY = pd.DataFrame(fresh_targets['target'])"
   ]
  },
  {
   "cell_type": "markdown",
   "metadata": {},
   "source": [
    "## Distance based methods approach\n",
    "1. Logistic Regression - CHECKED"
   ]
  },
  {
   "cell_type": "markdown",
   "metadata": {},
   "source": [
    "#### SMOTE for tackling class imbalance, and then using feature selection method"
   ]
  },
  {
   "cell_type": "code",
   "execution_count": 18,
   "metadata": {},
   "outputs": [],
   "source": [
    "sc = StandardScaler()"
   ]
  },
  {
   "cell_type": "code",
   "execution_count": 19,
   "metadata": {},
   "outputs": [],
   "source": [
    "smt = SMOTE()"
   ]
  },
  {
   "cell_type": "code",
   "execution_count": 20,
   "metadata": {},
   "outputs": [],
   "source": [
    "rX1, rY1 = smt.fit_sample(rX, rY)\n",
    "rX1 = pd.DataFrame(rX1, columns = cols1)\n",
    "rY1 = pd.DataFrame(rY1, columns = ['target'])"
   ]
  },
  {
   "cell_type": "code",
   "execution_count": 21,
   "metadata": {},
   "outputs": [],
   "source": [
    "fX1, fY1 = smt.fit_sample(fX, fY)\n",
    "fX1 = pd.DataFrame(fX1, columns = cols2)\n",
    "fY1 = pd.DataFrame(fY1, columns = ['target'])"
   ]
  },
  {
   "cell_type": "code",
   "execution_count": 22,
   "metadata": {},
   "outputs": [],
   "source": [
    "rXtr, rXte, rYtr, rYte = train_test_split(rX1, rY1, stratify=rY1, test_size=0.25, random_state = 42)"
   ]
  },
  {
   "cell_type": "code",
   "execution_count": 23,
   "metadata": {},
   "outputs": [],
   "source": [
    "fXtr, fXte, fYtr, fYte = train_test_split(fX1, fY1, stratify=fY1, test_size=0.25, random_state = 42)"
   ]
  },
  {
   "cell_type": "code",
   "execution_count": 24,
   "metadata": {},
   "outputs": [
    {
     "data": {
      "text/plain": [
       "((8551, 14), (2851, 14))"
      ]
     },
     "execution_count": 24,
     "metadata": {},
     "output_type": "execute_result"
    }
   ],
   "source": [
    "rXtr.shape, rXte.shape"
   ]
  },
  {
   "cell_type": "code",
   "execution_count": 25,
   "metadata": {
    "scrolled": true
   },
   "outputs": [
    {
     "name": "stdout",
     "output_type": "stream",
     "text": [
      "              precision    recall  f1-score   support\n",
      "\n",
      "           0       0.80      0.72      0.76      1426\n",
      "           1       0.75      0.82      0.78      1425\n",
      "\n",
      "    accuracy                           0.77      2851\n",
      "   macro avg       0.77      0.77      0.77      2851\n",
      "weighted avg       0.77      0.77      0.77      2851\n",
      "\n",
      "[[1028  398]\n",
      " [ 262 1163]]\n"
     ]
    }
   ],
   "source": [
    "# Logistic Regression - REPEATED TARGETS\n",
    "estimator = LogisticRegression(penalty='l1', class_weight='balanced', solver = 'liblinear')\n",
    "selector = RFE(estimator, 5, step=1)\n",
    "selector = selector.fit(rXtr, rYtr)\n",
    "logpred = selector.predict(rXte)\n",
    "print(classification_report(rYte,logpred))\n",
    "print(confusion_matrix(rYte,logpred))"
   ]
  },
  {
   "cell_type": "code",
   "execution_count": 26,
   "metadata": {},
   "outputs": [
    {
     "data": {
      "text/html": [
       "<div>\n",
       "<style scoped>\n",
       "    .dataframe tbody tr th:only-of-type {\n",
       "        vertical-align: middle;\n",
       "    }\n",
       "\n",
       "    .dataframe tbody tr th {\n",
       "        vertical-align: top;\n",
       "    }\n",
       "\n",
       "    .dataframe thead th {\n",
       "        text-align: right;\n",
       "    }\n",
       "</style>\n",
       "<table border=\"1\" class=\"dataframe\">\n",
       "  <thead>\n",
       "    <tr style=\"text-align: right;\">\n",
       "      <th></th>\n",
       "      <th>column_name</th>\n",
       "      <th>ranking</th>\n",
       "    </tr>\n",
       "  </thead>\n",
       "  <tbody>\n",
       "    <tr>\n",
       "      <td>2</td>\n",
       "      <td>marital</td>\n",
       "      <td>1</td>\n",
       "    </tr>\n",
       "    <tr>\n",
       "      <td>4</td>\n",
       "      <td>connect</td>\n",
       "      <td>1</td>\n",
       "    </tr>\n",
       "    <tr>\n",
       "      <td>6</td>\n",
       "      <td>landline</td>\n",
       "      <td>1</td>\n",
       "    </tr>\n",
       "    <tr>\n",
       "      <td>7</td>\n",
       "      <td>smart</td>\n",
       "      <td>1</td>\n",
       "    </tr>\n",
       "    <tr>\n",
       "      <td>13</td>\n",
       "      <td>poutcome</td>\n",
       "      <td>1</td>\n",
       "    </tr>\n",
       "  </tbody>\n",
       "</table>\n",
       "</div>"
      ],
      "text/plain": [
       "   column_name  ranking\n",
       "2      marital        1\n",
       "4      connect        1\n",
       "6     landline        1\n",
       "7        smart        1\n",
       "13    poutcome        1"
      ]
     },
     "execution_count": 26,
     "metadata": {},
     "output_type": "execute_result"
    }
   ],
   "source": [
    "repeated_ranking = pd.DataFrame(list(zip(rXtr.columns,selector.ranking_)),columns = ['column_name','ranking'])\n",
    "repeated_ranking.sort_values(by = 'ranking').head()"
   ]
  },
  {
   "cell_type": "code",
   "execution_count": 27,
   "metadata": {},
   "outputs": [
    {
     "name": "stdout",
     "output_type": "stream",
     "text": [
      "              precision    recall  f1-score   support\n",
      "\n",
      "           0       0.74      0.76      0.75      7528\n",
      "           1       0.75      0.73      0.74      7528\n",
      "\n",
      "    accuracy                           0.74     15056\n",
      "   macro avg       0.74      0.74      0.74     15056\n",
      "weighted avg       0.74      0.74      0.74     15056\n",
      "\n",
      "[[5723 1805]\n",
      " [2046 5482]]\n"
     ]
    }
   ],
   "source": [
    "# Logistic Regression - FRESH TARGETS\n",
    "estimator = LogisticRegression(penalty='l1', class_weight='balanced', solver = 'liblinear')\n",
    "selector = RFE(estimator, 5, step=1)\n",
    "selector = selector.fit(fXtr, fYtr)\n",
    "logpred = selector.predict(fXte)\n",
    "print(classification_report(fYte,logpred))\n",
    "print(confusion_matrix(fYte,logpred))"
   ]
  },
  {
   "cell_type": "code",
   "execution_count": 28,
   "metadata": {},
   "outputs": [
    {
     "data": {
      "text/html": [
       "<div>\n",
       "<style scoped>\n",
       "    .dataframe tbody tr th:only-of-type {\n",
       "        vertical-align: middle;\n",
       "    }\n",
       "\n",
       "    .dataframe tbody tr th {\n",
       "        vertical-align: top;\n",
       "    }\n",
       "\n",
       "    .dataframe thead th {\n",
       "        text-align: right;\n",
       "    }\n",
       "</style>\n",
       "<table border=\"1\" class=\"dataframe\">\n",
       "  <thead>\n",
       "    <tr style=\"text-align: right;\">\n",
       "      <th></th>\n",
       "      <th>column_name</th>\n",
       "      <th>ranking</th>\n",
       "    </tr>\n",
       "  </thead>\n",
       "  <tbody>\n",
       "    <tr>\n",
       "      <td>0</td>\n",
       "      <td>age</td>\n",
       "      <td>1</td>\n",
       "    </tr>\n",
       "    <tr>\n",
       "      <td>2</td>\n",
       "      <td>marital</td>\n",
       "      <td>1</td>\n",
       "    </tr>\n",
       "    <tr>\n",
       "      <td>4</td>\n",
       "      <td>connect</td>\n",
       "      <td>1</td>\n",
       "    </tr>\n",
       "    <tr>\n",
       "      <td>6</td>\n",
       "      <td>landline</td>\n",
       "      <td>1</td>\n",
       "    </tr>\n",
       "    <tr>\n",
       "      <td>7</td>\n",
       "      <td>smart</td>\n",
       "      <td>1</td>\n",
       "    </tr>\n",
       "  </tbody>\n",
       "</table>\n",
       "</div>"
      ],
      "text/plain": [
       "  column_name  ranking\n",
       "0         age        1\n",
       "2     marital        1\n",
       "4     connect        1\n",
       "6    landline        1\n",
       "7       smart        1"
      ]
     },
     "execution_count": 28,
     "metadata": {},
     "output_type": "execute_result"
    }
   ],
   "source": [
    "fresh_ranking = pd.DataFrame(list(zip(fXtr.columns,selector.ranking_)),columns = ['column_name','ranking'])\n",
    "fresh_ranking.sort_values(by = 'ranking').head()"
   ]
  },
  {
   "cell_type": "markdown",
   "metadata": {},
   "source": [
    "#### We observe that marital status is more important when customers are targeted for the first time, unlike repeated targets where the PREVIOUS outcome of the past campaigns play a very important role"
   ]
  },
  {
   "cell_type": "markdown",
   "metadata": {},
   "source": [
    "## Tree based methods approach\n",
    "1. Decision Trees - CHECKED\n",
    "2. Random Forests - CHECKED"
   ]
  },
  {
   "cell_type": "markdown",
   "metadata": {},
   "source": [
    "### Approach - without using sampling techniques"
   ]
  },
  {
   "cell_type": "code",
   "execution_count": 29,
   "metadata": {},
   "outputs": [],
   "source": [
    "rXtr, rXte, rYtr, rYte = train_test_split(rX, rY, stratify=rY, test_size=0.25, random_state = 42)\n",
    "fXtr, fXte, fYtr, fYte = train_test_split(fX, fY, stratify=fY, test_size=0.25, random_state = 42)"
   ]
  },
  {
   "cell_type": "code",
   "execution_count": 30,
   "metadata": {},
   "outputs": [
    {
     "name": "stdout",
     "output_type": "stream",
     "text": [
      "[[1215  211]\n",
      " [ 231  196]]\n",
      "              precision    recall  f1-score   support\n",
      "\n",
      "           0       0.84      0.85      0.85      1426\n",
      "           1       0.48      0.46      0.47       427\n",
      "\n",
      "    accuracy                           0.76      1853\n",
      "   macro avg       0.66      0.66      0.66      1853\n",
      "weighted avg       0.76      0.76      0.76      1853\n",
      "\n"
     ]
    }
   ],
   "source": [
    "dtree = DecisionTreeClassifier(criterion='gini', class_weight={0:1,1:9}) #criterion = entopy, gini\n",
    "dtree.fit(rXtr, rYtr)\n",
    "dpred = dtree.predict(rXte)\n",
    "print(confusion_matrix(rYte, dpred))\n",
    "print(classification_report(rYte,dpred))"
   ]
  },
  {
   "cell_type": "code",
   "execution_count": 31,
   "metadata": {},
   "outputs": [
    {
     "name": "stdout",
     "output_type": "stream",
     "text": [
      "[[6933  595]\n",
      " [ 624  122]]\n",
      "              precision    recall  f1-score   support\n",
      "\n",
      "           0       0.92      0.92      0.92      7528\n",
      "           1       0.17      0.16      0.17       746\n",
      "\n",
      "    accuracy                           0.85      8274\n",
      "   macro avg       0.54      0.54      0.54      8274\n",
      "weighted avg       0.85      0.85      0.85      8274\n",
      "\n"
     ]
    }
   ],
   "source": [
    "dtree = DecisionTreeClassifier(criterion='gini', class_weight={0:1,1:9}) #criterion = entopy, gini\n",
    "dtree.fit(fXtr, fYtr)\n",
    "dpred = dtree.predict(fXte)\n",
    "print(confusion_matrix(fYte, dpred))\n",
    "print(classification_report(fYte,dpred))"
   ]
  },
  {
   "cell_type": "markdown",
   "metadata": {},
   "source": [
    "##### We see that without using data preparation techniques, the recall of the test set is very low. Accuracy is not the main concern, when the recall itself is low. Hence, we first needed to focus on increasing recall by using over and under sampling TOGETHER and then focus on precision by altering and hypertuning the parameters."
   ]
  },
  {
   "cell_type": "markdown",
   "metadata": {},
   "source": [
    "### Approach - using over and under sampling at the same time"
   ]
  },
  {
   "cell_type": "code",
   "execution_count": 32,
   "metadata": {},
   "outputs": [],
   "source": [
    "ffull = pd.concat([fX,fY], axis = 1)\n",
    "rfull = pd.concat([rX,rY], axis = 1)"
   ]
  },
  {
   "cell_type": "code",
   "execution_count": 33,
   "metadata": {},
   "outputs": [],
   "source": [
    "fY0 = ffull[ffull.target == 0]\n",
    "fY1 = ffull[ffull.target == 1]\n",
    "rY0 = rfull[rfull.target == 0]\n",
    "rY1 = rfull[rfull.target == 1]"
   ]
  },
  {
   "cell_type": "code",
   "execution_count": 34,
   "metadata": {},
   "outputs": [],
   "source": [
    "# downsampling of 0\n",
    "fdownsampled = resample(fY0, replace = False, # sample without replacement,\n",
    "                       n_samples = 12000, # match minority n\n",
    "                                random_state = 27) # reproducible results\n",
    "\n",
    "rdownsampled = resample(rY0, replace = False, # sample without replacement,\n",
    "                       n_samples = 3500, # match minority n\n",
    "                                random_state = 27) # reproducible results"
   ]
  },
  {
   "cell_type": "code",
   "execution_count": 35,
   "metadata": {},
   "outputs": [],
   "source": [
    "# upsampling of 1\n",
    "fupsampled = resample(fY1, replace = True, # sample without replacement,\n",
    "                       n_samples = 12000, # match minority n\n",
    "                                random_state = 27) # reproducible results\n",
    "\n",
    "rupsampled = resample(rY1, replace = True, # sample without replacement,\n",
    "                       n_samples = 3500, # match minority n\n",
    "                                random_state = 27) # reproducible results"
   ]
  },
  {
   "cell_type": "code",
   "execution_count": 36,
   "metadata": {},
   "outputs": [
    {
     "data": {
      "text/plain": [
       "1    12000\n",
       "0    12000\n",
       "Name: target, dtype: int64"
      ]
     },
     "execution_count": 36,
     "metadata": {},
     "output_type": "execute_result"
    }
   ],
   "source": [
    "ffull = pd.concat([fdownsampled, fupsampled], axis = 0)\n",
    "ffull.target.value_counts()"
   ]
  },
  {
   "cell_type": "code",
   "execution_count": 37,
   "metadata": {},
   "outputs": [
    {
     "data": {
      "text/plain": [
       "1    3500\n",
       "0    3500\n",
       "Name: target, dtype: int64"
      ]
     },
     "execution_count": 37,
     "metadata": {},
     "output_type": "execute_result"
    }
   ],
   "source": [
    "rfull = pd.concat([rdownsampled, rupsampled], axis = 0)\n",
    "rfull.target.value_counts()"
   ]
  },
  {
   "cell_type": "code",
   "execution_count": 38,
   "metadata": {},
   "outputs": [],
   "source": [
    "xffull = ffull.drop(columns = 'target')\n",
    "yffull = ffull['target']\n",
    "\n",
    "xrfull = rfull.drop(columns = 'target')\n",
    "yrfull = rfull['target']"
   ]
  },
  {
   "cell_type": "code",
   "execution_count": 39,
   "metadata": {},
   "outputs": [],
   "source": [
    "xftr, xfte, yftr, yfte = train_test_split(xffull, yffull,test_size=0.25, random_state = 42, stratify = yffull)"
   ]
  },
  {
   "cell_type": "code",
   "execution_count": 40,
   "metadata": {},
   "outputs": [],
   "source": [
    "xrtr, xrte, yrtr, yrte = train_test_split(xrfull, yrfull,test_size=0.25, random_state = 42, stratify = yrfull)"
   ]
  },
  {
   "cell_type": "code",
   "execution_count": 41,
   "metadata": {},
   "outputs": [
    {
     "name": "stdout",
     "output_type": "stream",
     "text": [
      "              precision    recall  f1-score   support\n",
      "\n",
      "           0       0.96      0.79      0.87      3000\n",
      "           1       0.82      0.97      0.89      3000\n",
      "\n",
      "    accuracy                           0.88      6000\n",
      "   macro avg       0.89      0.88      0.88      6000\n",
      "weighted avg       0.89      0.88      0.88      6000\n",
      "\n",
      "[[2363  637]\n",
      " [  96 2904]]\n"
     ]
    }
   ],
   "source": [
    "dtree = DecisionTreeClassifier(criterion='gini') #criterion = entopy, gini\n",
    "dtree.fit(xftr, yftr)\n",
    "dpred = dtree.predict(xfte)\n",
    "print(classification_report(yfte,dpred))\n",
    "print(confusion_matrix(yfte, dpred))"
   ]
  },
  {
   "cell_type": "code",
   "execution_count": 42,
   "metadata": {},
   "outputs": [
    {
     "name": "stdout",
     "output_type": "stream",
     "text": [
      "              precision    recall  f1-score   support\n",
      "\n",
      "           0       0.91      0.77      0.83       875\n",
      "           1       0.80      0.92      0.86       875\n",
      "\n",
      "    accuracy                           0.85      1750\n",
      "   macro avg       0.85      0.85      0.84      1750\n",
      "weighted avg       0.85      0.85      0.84      1750\n",
      "\n",
      "[[672 203]\n",
      " [ 67 808]]\n"
     ]
    }
   ],
   "source": [
    "dtree = DecisionTreeClassifier(criterion='gini') #criterion = entopy, gini\n",
    "dtree.fit(xrtr, yrtr)\n",
    "dpred = dtree.predict(xrte)\n",
    "print(classification_report(yrte,dpred))\n",
    "print(confusion_matrix(yrte, dpred))"
   ]
  },
  {
   "cell_type": "code",
   "execution_count": 43,
   "metadata": {},
   "outputs": [],
   "source": [
    "##RANDOM FOREST CLASSIFIER      #R"
   ]
  },
  {
   "cell_type": "code",
   "execution_count": 45,
   "metadata": {},
   "outputs": [
    {
     "name": "stdout",
     "output_type": "stream",
     "text": [
      "BASE ESTIMATOR\n",
      "              precision    recall  f1-score   support\n",
      "\n",
      "           0       0.94      0.90      0.92      3000\n",
      "           1       0.90      0.95      0.92      3000\n",
      "\n",
      "    accuracy                           0.92      6000\n",
      "   macro avg       0.92      0.92      0.92      6000\n",
      "weighted avg       0.92      0.92      0.92      6000\n",
      "\n",
      "[[2689  311]\n",
      " [ 163 2837]]\n",
      "GRID SEARCH ESTIMATOR\n",
      "              precision    recall  f1-score   support\n",
      "\n",
      "           0       0.96      0.91      0.93      3000\n",
      "           1       0.91      0.97      0.94      3000\n",
      "\n",
      "    accuracy                           0.94      6000\n",
      "   macro avg       0.94      0.94      0.94      6000\n",
      "weighted avg       0.94      0.94      0.94      6000\n",
      "\n",
      "[[2717  283]\n",
      " [ 103 2897]]\n"
     ]
    }
   ],
   "source": [
    "rfc = RandomForestClassifier()\n",
    "rfc.fit(xftr,yftr)\n",
    "rfcfpred = rfc.predict(xfte)\n",
    "params = {'n_estimators':np.arange(50,200,50),\n",
    "        'max_depth': [80, 90, 100, 110],\n",
    "        'max_features': [3, 4],\n",
    "        'criterion':['gini','entropy']}\n",
    "fgrid_search = GridSearchCV(estimator = rfc, param_grid = params, cv = 3)\n",
    "fgrid_search.fit(xftr, yftr)\n",
    "fgridpred = fgrid_search.predict(xfte)\n",
    "print(\"BASE ESTIMATOR\")\n",
    "print(classification_report(yfte,rfcfpred))\n",
    "print(confusion_matrix(yfte, rfcfpred))\n",
    "print(\"GRID SEARCH ESTIMATOR\")\n",
    "print(classification_report(yfte,fgridpred))\n",
    "print(confusion_matrix(yfte, fgridpred))"
   ]
  },
  {
   "cell_type": "code",
   "execution_count": 46,
   "metadata": {},
   "outputs": [
    {
     "name": "stdout",
     "output_type": "stream",
     "text": [
      "BASE ESTIMATOR\n",
      "              precision    recall  f1-score   support\n",
      "\n",
      "           0       0.90      0.86      0.88       875\n",
      "           1       0.86      0.91      0.88       875\n",
      "\n",
      "    accuracy                           0.88      1750\n",
      "   macro avg       0.88      0.88      0.88      1750\n",
      "weighted avg       0.88      0.88      0.88      1750\n",
      "\n",
      "[[751 124]\n",
      " [ 83 792]]\n",
      "\n",
      "\n",
      "GRID SEARCH ESTIMATOR\n",
      "              precision    recall  f1-score   support\n",
      "\n",
      "           0       0.93      0.84      0.88       875\n",
      "           1       0.86      0.94      0.89       875\n",
      "\n",
      "    accuracy                           0.89      1750\n",
      "   macro avg       0.89      0.89      0.89      1750\n",
      "weighted avg       0.89      0.89      0.89      1750\n",
      "\n",
      "[[737 138]\n",
      " [ 55 820]]\n"
     ]
    }
   ],
   "source": [
    "rfc = RandomForestClassifier()\n",
    "rfc.fit(xrtr,yrtr)\n",
    "rfcrpred = rfc.predict(xrte)\n",
    "params = {'n_estimators':np.arange(50,200,50),\n",
    "        'max_depth': [80, 90, 100, 110],\n",
    "        'max_features': [3, 4],\n",
    "        'criterion':['gini','entropy']}\n",
    "rgrid_search = GridSearchCV(estimator = rfc, param_grid = params, cv = 3)\n",
    "rgrid_search.fit(xrtr, yrtr)\n",
    "rgridpred = rgrid_search.predict(xrte)\n",
    "print(\"BASE ESTIMATOR\")\n",
    "print(classification_report(yrte,rfcrpred))\n",
    "print(confusion_matrix(yrte, rfcrpred))\n",
    "print('\\n')\n",
    "print(\"GRID SEARCH ESTIMATOR\")\n",
    "print(classification_report(yrte, rgridpred))\n",
    "print(confusion_matrix(yrte, rgridpred))"
   ]
  },
  {
   "cell_type": "code",
   "execution_count": 47,
   "metadata": {
    "scrolled": true
   },
   "outputs": [
    {
     "data": {
      "text/plain": [
       "RandomForestClassifier(bootstrap=True, class_weight=None, criterion='gini',\n",
       "                       max_depth=110, max_features=3, max_leaf_nodes=None,\n",
       "                       min_impurity_decrease=0.0, min_impurity_split=None,\n",
       "                       min_samples_leaf=1, min_samples_split=2,\n",
       "                       min_weight_fraction_leaf=0.0, n_estimators=150,\n",
       "                       n_jobs=None, oob_score=False, random_state=None,\n",
       "                       verbose=0, warm_start=False)"
      ]
     },
     "execution_count": 47,
     "metadata": {},
     "output_type": "execute_result"
    }
   ],
   "source": [
    "fgrid_search.best_estimator_"
   ]
  },
  {
   "cell_type": "code",
   "execution_count": 48,
   "metadata": {},
   "outputs": [
    {
     "data": {
      "text/plain": [
       "RandomForestClassifier(bootstrap=True, class_weight=None, criterion='gini',\n",
       "                       max_depth=90, max_features=3, max_leaf_nodes=None,\n",
       "                       min_impurity_decrease=0.0, min_impurity_split=None,\n",
       "                       min_samples_leaf=1, min_samples_split=2,\n",
       "                       min_weight_fraction_leaf=0.0, n_estimators=50,\n",
       "                       n_jobs=None, oob_score=False, random_state=None,\n",
       "                       verbose=0, warm_start=False)"
      ]
     },
     "execution_count": 48,
     "metadata": {},
     "output_type": "execute_result"
    }
   ],
   "source": [
    "rgrid_search.best_estimator_"
   ]
  },
  {
   "cell_type": "code",
   "execution_count": null,
   "metadata": {},
   "outputs": [],
   "source": [
    "##PREPARING VALIDATION DATA   #R"
   ]
  },
  {
   "cell_type": "code",
   "execution_count": 51,
   "metadata": {},
   "outputs": [
    {
     "data": {
      "text/html": [
       "<div>\n",
       "<style scoped>\n",
       "    .dataframe tbody tr th:only-of-type {\n",
       "        vertical-align: middle;\n",
       "    }\n",
       "\n",
       "    .dataframe tbody tr th {\n",
       "        vertical-align: top;\n",
       "    }\n",
       "\n",
       "    .dataframe thead th {\n",
       "        text-align: right;\n",
       "    }\n",
       "</style>\n",
       "<table border=\"1\" class=\"dataframe\">\n",
       "  <thead>\n",
       "    <tr style=\"text-align: right;\">\n",
       "      <th></th>\n",
       "      <th>age</th>\n",
       "      <th>job</th>\n",
       "      <th>marital</th>\n",
       "      <th>education</th>\n",
       "      <th>connect</th>\n",
       "      <th>balance</th>\n",
       "      <th>landline</th>\n",
       "      <th>smart</th>\n",
       "      <th>last_day</th>\n",
       "      <th>last_month</th>\n",
       "      <th>campaign</th>\n",
       "      <th>passdays</th>\n",
       "      <th>previous</th>\n",
       "      <th>poutcome</th>\n",
       "      <th>target</th>\n",
       "    </tr>\n",
       "  </thead>\n",
       "  <tbody>\n",
       "    <tr>\n",
       "      <td>0</td>\n",
       "      <td>1</td>\n",
       "      <td>10</td>\n",
       "      <td>1</td>\n",
       "      <td>0</td>\n",
       "      <td>0</td>\n",
       "      <td>1787</td>\n",
       "      <td>0</td>\n",
       "      <td>0</td>\n",
       "      <td>19</td>\n",
       "      <td>10</td>\n",
       "      <td>1</td>\n",
       "      <td>-1</td>\n",
       "      <td>0</td>\n",
       "      <td>unknown</td>\n",
       "      <td>0</td>\n",
       "    </tr>\n",
       "    <tr>\n",
       "      <td>1</td>\n",
       "      <td>1</td>\n",
       "      <td>7</td>\n",
       "      <td>1</td>\n",
       "      <td>1</td>\n",
       "      <td>0</td>\n",
       "      <td>4789</td>\n",
       "      <td>1</td>\n",
       "      <td>1</td>\n",
       "      <td>11</td>\n",
       "      <td>8</td>\n",
       "      <td>1</td>\n",
       "      <td>339</td>\n",
       "      <td>4</td>\n",
       "      <td>failure</td>\n",
       "      <td>0</td>\n",
       "    </tr>\n",
       "    <tr>\n",
       "      <td>2</td>\n",
       "      <td>2</td>\n",
       "      <td>4</td>\n",
       "      <td>2</td>\n",
       "      <td>2</td>\n",
       "      <td>0</td>\n",
       "      <td>1350</td>\n",
       "      <td>1</td>\n",
       "      <td>0</td>\n",
       "      <td>16</td>\n",
       "      <td>0</td>\n",
       "      <td>1</td>\n",
       "      <td>330</td>\n",
       "      <td>1</td>\n",
       "      <td>failure</td>\n",
       "      <td>0</td>\n",
       "    </tr>\n",
       "    <tr>\n",
       "      <td>3</td>\n",
       "      <td>1</td>\n",
       "      <td>4</td>\n",
       "      <td>1</td>\n",
       "      <td>2</td>\n",
       "      <td>0</td>\n",
       "      <td>1476</td>\n",
       "      <td>1</td>\n",
       "      <td>1</td>\n",
       "      <td>3</td>\n",
       "      <td>6</td>\n",
       "      <td>4</td>\n",
       "      <td>-1</td>\n",
       "      <td>0</td>\n",
       "      <td>unknown</td>\n",
       "      <td>0</td>\n",
       "    </tr>\n",
       "    <tr>\n",
       "      <td>4</td>\n",
       "      <td>3</td>\n",
       "      <td>1</td>\n",
       "      <td>1</td>\n",
       "      <td>1</td>\n",
       "      <td>0</td>\n",
       "      <td>0</td>\n",
       "      <td>1</td>\n",
       "      <td>0</td>\n",
       "      <td>5</td>\n",
       "      <td>8</td>\n",
       "      <td>1</td>\n",
       "      <td>-1</td>\n",
       "      <td>0</td>\n",
       "      <td>unknown</td>\n",
       "      <td>0</td>\n",
       "    </tr>\n",
       "    <tr>\n",
       "      <td>...</td>\n",
       "      <td>...</td>\n",
       "      <td>...</td>\n",
       "      <td>...</td>\n",
       "      <td>...</td>\n",
       "      <td>...</td>\n",
       "      <td>...</td>\n",
       "      <td>...</td>\n",
       "      <td>...</td>\n",
       "      <td>...</td>\n",
       "      <td>...</td>\n",
       "      <td>...</td>\n",
       "      <td>...</td>\n",
       "      <td>...</td>\n",
       "      <td>...</td>\n",
       "      <td>...</td>\n",
       "    </tr>\n",
       "    <tr>\n",
       "      <td>4516</td>\n",
       "      <td>1</td>\n",
       "      <td>7</td>\n",
       "      <td>1</td>\n",
       "      <td>1</td>\n",
       "      <td>0</td>\n",
       "      <td>-333</td>\n",
       "      <td>1</td>\n",
       "      <td>0</td>\n",
       "      <td>30</td>\n",
       "      <td>5</td>\n",
       "      <td>5</td>\n",
       "      <td>-1</td>\n",
       "      <td>0</td>\n",
       "      <td>unknown</td>\n",
       "      <td>0</td>\n",
       "    </tr>\n",
       "    <tr>\n",
       "      <td>4517</td>\n",
       "      <td>3</td>\n",
       "      <td>6</td>\n",
       "      <td>1</td>\n",
       "      <td>2</td>\n",
       "      <td>1</td>\n",
       "      <td>-3313</td>\n",
       "      <td>1</td>\n",
       "      <td>1</td>\n",
       "      <td>9</td>\n",
       "      <td>8</td>\n",
       "      <td>1</td>\n",
       "      <td>-1</td>\n",
       "      <td>0</td>\n",
       "      <td>unknown</td>\n",
       "      <td>0</td>\n",
       "    </tr>\n",
       "    <tr>\n",
       "      <td>4518</td>\n",
       "      <td>3</td>\n",
       "      <td>9</td>\n",
       "      <td>1</td>\n",
       "      <td>1</td>\n",
       "      <td>0</td>\n",
       "      <td>295</td>\n",
       "      <td>0</td>\n",
       "      <td>0</td>\n",
       "      <td>19</td>\n",
       "      <td>1</td>\n",
       "      <td>11</td>\n",
       "      <td>-1</td>\n",
       "      <td>0</td>\n",
       "      <td>unknown</td>\n",
       "      <td>0</td>\n",
       "    </tr>\n",
       "    <tr>\n",
       "      <td>4519</td>\n",
       "      <td>1</td>\n",
       "      <td>1</td>\n",
       "      <td>1</td>\n",
       "      <td>1</td>\n",
       "      <td>0</td>\n",
       "      <td>1137</td>\n",
       "      <td>0</td>\n",
       "      <td>0</td>\n",
       "      <td>6</td>\n",
       "      <td>3</td>\n",
       "      <td>4</td>\n",
       "      <td>211</td>\n",
       "      <td>3</td>\n",
       "      <td>other</td>\n",
       "      <td>0</td>\n",
       "    </tr>\n",
       "    <tr>\n",
       "      <td>4520</td>\n",
       "      <td>2</td>\n",
       "      <td>2</td>\n",
       "      <td>2</td>\n",
       "      <td>2</td>\n",
       "      <td>0</td>\n",
       "      <td>1136</td>\n",
       "      <td>1</td>\n",
       "      <td>1</td>\n",
       "      <td>3</td>\n",
       "      <td>0</td>\n",
       "      <td>2</td>\n",
       "      <td>249</td>\n",
       "      <td>7</td>\n",
       "      <td>other</td>\n",
       "      <td>0</td>\n",
       "    </tr>\n",
       "  </tbody>\n",
       "</table>\n",
       "<p>4521 rows × 15 columns</p>\n",
       "</div>"
      ],
      "text/plain": [
       "      age  job  marital  education  connect  balance  landline  smart  \\\n",
       "0       1   10        1          0        0     1787         0      0   \n",
       "1       1    7        1          1        0     4789         1      1   \n",
       "2       2    4        2          2        0     1350         1      0   \n",
       "3       1    4        1          2        0     1476         1      1   \n",
       "4       3    1        1          1        0        0         1      0   \n",
       "...   ...  ...      ...        ...      ...      ...       ...    ...   \n",
       "4516    1    7        1          1        0     -333         1      0   \n",
       "4517    3    6        1          2        1    -3313         1      1   \n",
       "4518    3    9        1          1        0      295         0      0   \n",
       "4519    1    1        1          1        0     1137         0      0   \n",
       "4520    2    2        2          2        0     1136         1      1   \n",
       "\n",
       "      last_day  last_month  campaign  passdays  previous poutcome  target  \n",
       "0           19          10         1        -1         0  unknown       0  \n",
       "1           11           8         1       339         4  failure       0  \n",
       "2           16           0         1       330         1  failure       0  \n",
       "3            3           6         4        -1         0  unknown       0  \n",
       "4            5           8         1        -1         0  unknown       0  \n",
       "...        ...         ...       ...       ...       ...      ...     ...  \n",
       "4516        30           5         5        -1         0  unknown       0  \n",
       "4517         9           8         1        -1         0  unknown       0  \n",
       "4518        19           1        11        -1         0  unknown       0  \n",
       "4519         6           3         4       211         3    other       0  \n",
       "4520         3           0         2       249         7    other       0  \n",
       "\n",
       "[4521 rows x 15 columns]"
      ]
     },
     "execution_count": 51,
     "metadata": {},
     "output_type": "execute_result"
    }
   ],
   "source": [
    "df = pd.read_csv('TEST DATA')\n",
    "df.drop(columns = 'duration',inplace = True)\n",
    "age(df)\n",
    "encoding(df)"
   ]
  },
  {
   "cell_type": "code",
   "execution_count": 52,
   "metadata": {},
   "outputs": [],
   "source": [
    "fresh_test = df[df.previous == 0]\n",
    "repeated_test = df[df.previous != 0]\n",
    "\n",
    "fresh_test.drop(columns = [\"previous\",\"poutcome\",\"passdays\"], inplace = True)\n",
    "\n",
    "repeated_test['campaign'] = repeated_test['campaign'] - 1\n",
    "repeated_test['poutcome'] = labelencoder_X.fit_transform(repeated_test.poutcome)\n",
    "outcome_key = pd.DataFrame(list(zip(list(labelencoder_X.classes_),\n",
    "                                 list(np.arange(0,len(list(labelencoder_X.classes_)),1)))), columns = ['outcome','label'])\n",
    "\n",
    "fresh_test['campaign'] = fresh_test['campaign'] - 1\n",
    "\n",
    "rtestX = repeated_test.drop(columns = 'target')\n",
    "cols1 = list(rtestX)\n",
    "rtestY = repeated_test['target']\n",
    "\n",
    "ftestX = fresh_test.drop(columns = 'target')\n",
    "cols2 = list(ftestX)\n",
    "ftestY = fresh_test['target']"
   ]
  },
  {
   "cell_type": "code",
   "execution_count": null,
   "metadata": {},
   "outputs": [],
   "source": [
    "##PREDICTING ON VALIDATION DATA"
   ]
  },
  {
   "cell_type": "code",
   "execution_count": 54,
   "metadata": {},
   "outputs": [
    {
     "name": "stdout",
     "output_type": "stream",
     "text": [
      "[[582  50]\n",
      " [ 18 166]]\n",
      "92.0\n",
      "              precision    recall  f1-score   support\n",
      "\n",
      "           0       0.97      0.92      0.94       632\n",
      "           1       0.77      0.90      0.83       184\n",
      "\n",
      "    accuracy                           0.92       816\n",
      "   macro avg       0.87      0.91      0.89       816\n",
      "weighted avg       0.92      0.92      0.92       816\n",
      "\n"
     ]
    }
   ],
   "source": [
    "rpred = rgrid_search.predict(rtestX)\n",
    "print(confusion_matrix(rtestY, rpred))\n",
    "print(round(accuracy_score(rtestY, rpred),2)*100)\n",
    "print(classification_report(rtestY, rpred))"
   ]
  },
  {
   "cell_type": "code",
   "execution_count": 55,
   "metadata": {},
   "outputs": [
    {
     "name": "stdout",
     "output_type": "stream",
     "text": [
      "[[3135  233]\n",
      " [  31  306]]\n",
      "93.0\n",
      "              precision    recall  f1-score   support\n",
      "\n",
      "           0       0.99      0.93      0.96      3368\n",
      "           1       0.57      0.91      0.70       337\n",
      "\n",
      "    accuracy                           0.93      3705\n",
      "   macro avg       0.78      0.92      0.83      3705\n",
      "weighted avg       0.95      0.93      0.94      3705\n",
      "\n"
     ]
    }
   ],
   "source": [
    "fpred = fgrid_search.predict(ftestX)\n",
    "print(confusion_matrix(ftestY, fpred))\n",
    "print(round(accuracy_score(ftestY, fpred),2)*100)\n",
    "print(classification_report(ftestY, fpred))"
   ]
  }
 ],
 "metadata": {
  "kernelspec": {
   "display_name": "Python 3",
   "language": "python",
   "name": "python3"
  },
  "language_info": {
   "codemirror_mode": {
    "name": "ipython",
    "version": 3
   },
   "file_extension": ".py",
   "mimetype": "text/x-python",
   "name": "python",
   "nbconvert_exporter": "python",
   "pygments_lexer": "ipython3",
   "version": "3.7.1"
  }
 },
 "nbformat": 4,
 "nbformat_minor": 2
}
